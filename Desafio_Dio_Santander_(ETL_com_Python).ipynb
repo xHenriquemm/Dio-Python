{
  "nbformat": 4,
  "nbformat_minor": 0,
  "metadata": {
    "colab": {
      "provenance": [],
      "authorship_tag": "ABX9TyODsNoMaPl6LV4gD5Unyict",
      "include_colab_link": true
    },
    "kernelspec": {
      "name": "python3",
      "display_name": "Python 3"
    },
    "language_info": {
      "name": "python"
    }
  },
  "cells": [
    {
      "cell_type": "markdown",
      "metadata": {
        "id": "view-in-github",
        "colab_type": "text"
      },
      "source": [
        "<a href=\"https://colab.research.google.com/github/xHenriquemm/Dio-Python/blob/master/Desafio_Dio_Santander_(ETL_com_Python).ipynb\" target=\"_parent\"><img src=\"https://colab.research.google.com/assets/colab-badge.svg\" alt=\"Open In Colab\"/></a>"
      ]
    },
    {
      "cell_type": "code",
      "source": [
        "import pandas as pd\n",
        "\n",
        "# Função para coletar valores de empréstimos informados pelos clientes\n",
        "def collect_loan_data(num_records):\n",
        "    data = []\n",
        "    for a in range(num_records):\n",
        "        loan_amount = float(input(\"Informe o valor do empréstimo: \"))\n",
        "        data.append({'valor_emprestimo': loan_amount})\n",
        "    return data\n",
        "\n",
        "# Função para calcular média dos valores de empréstimos\n",
        "def calculate_averages(data):\n",
        "    df = pd.DataFrame(data)\n",
        "    total_loan = df['valor_emprestimo'].sum()\n",
        "    average_loan = df['valor_emprestimo'].mean()\n",
        "    return total_loan, average_loan\n",
        "\n",
        "# Função para calcular valor das parcelas\n",
        "def calculate_installment(total_loan, num_installments):\n",
        "    return total_loan / num_installments\n",
        "\n",
        "# Definir o número de registros\n",
        "num_records = 3\n",
        "\n",
        "# Coletar dados dos empréstimos\n",
        "loan_data = collect_loan_data(num_records)\n",
        "\n",
        "# Calcular total e média dos valores de empréstimos\n",
        "total_loan_value, average_loan_value = calculate_averages(loan_data)\n",
        "\n",
        "# Exibir total e média dos valores de empréstimos\n",
        "print(\"\\nTotal dos valores de empréstimos: {:.2f}\".format(total_loan_value))\n",
        "print(\"Média dos valores de empréstimos: {:.2f}\".format(average_loan_value))\n",
        "\n",
        "# Perguntar pelo número de parcelas\n",
        "num_installments = int(input(\"\\nQuantas vezes você gostaria de parcelar? (até 12x): \"))\n",
        "# Limitar o número de parcelas a até 12x\n",
        "num_installments = min(num_installments, 12)\n",
        "print(\"Você escolheu parcelar em {} vezes.\".format(num_installments))\n",
        "\n",
        "# Calcular e exibir o valor das parcelas\n",
        "installment_value = calculate_installment(total_loan_value, num_installments)\n",
        "print(\"\\nValor das parcelas: {:.2f}\".format(installment_value))\n"
      ],
      "metadata": {
        "id": "-2O69bKeAUQt"
      },
      "execution_count": 2,
      "outputs": []
    },
    {
      "cell_type": "code",
      "source": [],
      "metadata": {
        "id": "xUAohk0CAdrj"
      },
      "execution_count": 3,
      "outputs": []
    }
  ]
}